{
 "cells": [
  {
   "cell_type": "code",
   "execution_count": 1,
   "metadata": {},
   "outputs": [
    {
     "name": "stdout",
     "output_type": "stream",
     "text": [
      "Data has been successfully divided into train, validation, and test sets.\n"
     ]
    }
   ],
   "source": [
    "import os\n",
    "import random\n",
    "\n",
    "# Define the main folder name\n",
    "main_folder = \"Soil Erosion DataSet\"\n",
    "\n",
    "# Define the subfolders names\n",
    "subfolders = [\"Gully erosion\", \"No erosion\", \"Rill erosion\", \"Sheet erosion\"]\n",
    "\n",
    "# Define the target folders \n",
    "target_folders = {\"train\": \"./train\", \"validation\": \"./validation\", \"test\": \"./test\"}\n",
    "\n",
    "# Define the percentage of data for each set\n",
    "percentage = {\"train\": 0.6, \"validation\": 0.2, \"test\": 0.2}\n",
    "\n",
    "for subfolder in subfolders:\n",
    "    # Get all the images in the subfolder\n",
    "    images = os.listdir(os.path.join(main_folder, subfolder))\n",
    "\n",
    "    # Shuffle the images\n",
    "    random.shuffle(images)\n",
    "\n",
    "    # Calculate the number of images for each set\n",
    "    train_count = int(len(images) * percentage[\"train\"])\n",
    "    validation_count = int(len(images) * percentage[\"validation\"])\n",
    "    test_count = int(len(images) * percentage[\"test\"])\n",
    "\n",
    "    # Divide the images into the corresponding sets\n",
    "    train_images = images[:train_count]\n",
    "    validation_images = images[train_count: train_count+validation_count]\n",
    "    test_images = images[train_count+validation_count:]\n",
    "\n",
    "    # Create the destination folder if it does not exist\n",
    "    os.makedirs(os.path.join(target_folders[\"train\"], subfolder), exist_ok=True)\n",
    "    os.makedirs(os.path.join(target_folders[\"validation\"], subfolder), exist_ok=True)\n",
    "    os.makedirs(os.path.join(target_folders[\"test\"], subfolder), exist_ok=True)\n",
    "    \n",
    "    # Move images to the corresponding folders\n",
    "    for image in train_images:\n",
    "        os.rename(os.path.join(main_folder, subfolder, image), os.path.join(target_folders[\"train\"], subfolder, image))\n",
    "    for image in validation_images:\n",
    "        os.rename(os.path.join(main_folder, subfolder, image), os.path.join(target_folders[\"validation\"], subfolder, image))\n",
    "    for image in test_images:\n",
    "        os.rename(os.path.join(main_folder, subfolder, image), os.path.join(target_folders[\"test\"], subfolder, image))\n",
    "\n",
    "print(\"Data has been successfully divided into train, validation, and test sets.\")"
   ]
  }
 ],
 "metadata": {
  "kernelspec": {
   "display_name": "MyEnv",
   "language": "python",
   "name": "python3"
  },
  "language_info": {
   "codemirror_mode": {
    "name": "ipython",
    "version": 3
   },
   "file_extension": ".py",
   "mimetype": "text/x-python",
   "name": "python",
   "nbconvert_exporter": "python",
   "pygments_lexer": "ipython3",
   "version": "3.10.9"
  },
  "orig_nbformat": 4,
  "vscode": {
   "interpreter": {
    "hash": "7ca03340088ff373ced3839141d99e8d02930cd6440d07ce24b26979226bccb2"
   }
  }
 },
 "nbformat": 4,
 "nbformat_minor": 2
}
