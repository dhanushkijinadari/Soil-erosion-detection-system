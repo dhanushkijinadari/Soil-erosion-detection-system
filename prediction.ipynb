{
 "cells": [
  {
   "cell_type": "code",
   "execution_count": 1,
   "metadata": {},
   "outputs": [],
   "source": [
    "import tkinter as tk\n",
    "from tkinter import filedialog\n",
    "from PIL import ImageTk, Image\n",
    "import numpy as np\n",
    "import tensorflow as tf"
   ]
  },
  {
   "cell_type": "code",
   "execution_count": 2,
   "metadata": {},
   "outputs": [],
   "source": [
    "# Load the saved model\n",
    "model = tf.keras.models.load_model(\"./soil_erosion_model.h5\")"
   ]
  },
  {
   "cell_type": "code",
   "execution_count": 3,
   "metadata": {},
   "outputs": [
    {
     "name": "stdout",
     "output_type": "stream",
     "text": [
      "1/1 [==============================] - 12s 12s/step\n",
      "1/1 [==============================] - 6s 6s/step\n",
      "1/1 [==============================] - 6s 6s/step\n"
     ]
    },
    {
     "name": "stderr",
     "output_type": "stream",
     "text": [
      "Exception in Tkinter callback\n",
      "Traceback (most recent call last):\n",
      "  File \"c:\\Users\\Mano\\.conda\\envs\\MyEnv\\lib\\site-packages\\PIL\\Image.py\", line 3231, in open\n",
      "    fp.seek(0)\n",
      "AttributeError: 'str' object has no attribute 'seek'\n",
      "\n",
      "During handling of the above exception, another exception occurred:\n",
      "\n",
      "Traceback (most recent call last):\n",
      "  File \"c:\\Users\\Mano\\.conda\\envs\\MyEnv\\lib\\tkinter\\__init__.py\", line 1921, in __call__\n",
      "    return self.func(*args)\n",
      "  File \"C:\\Users\\Mano\\AppData\\Local\\Temp\\ipykernel_21300\\1632125981.py\", line 14, in predict_image\n",
      "    image = Image.open(file_path).resize((512, 512))\n",
      "  File \"c:\\Users\\Mano\\.conda\\envs\\MyEnv\\lib\\site-packages\\PIL\\Image.py\", line 3233, in open\n",
      "    fp = io.BytesIO(fp.read())\n",
      "AttributeError: 'str' object has no attribute 'read'\n"
     ]
    },
    {
     "name": "stdout",
     "output_type": "stream",
     "text": [
      "1/1 [==============================] - 6s 6s/step\n"
     ]
    }
   ],
   "source": [
    "# Define a list of soil erosion types\n",
    "soil_erosion_types = [\"Gully erosion\", \"No erosion\", \"Rill erosion\", \"Sheet erosion\"]\n",
    "\n",
    "# Define the GUI interface\n",
    "root = tk.Tk()\n",
    "root.title(\"Soil Erosion Classifier\")\n",
    "\n",
    "# Define a function to predict the soil erosion type in the selected image\n",
    "def predict_image():\n",
    "    # Get the path to the selected image\n",
    "    file_path = filedialog.askopenfilename()\n",
    "    \n",
    "    # Load the image and preprocess it\n",
    "    image = Image.open(file_path).resize((512, 512))\n",
    "    image = np.array(image) / 255.0\n",
    "    image = np.expand_dims(image, axis=0)\n",
    "    \n",
    "    # Use the loaded model to predict the soil erosion type\n",
    "    predictions = model.predict(image)\n",
    "    predicted_class = np.argmax(predictions)\n",
    "    predicted_prob = np.max(predictions)\n",
    "\n",
    "    # Set the threshold value for soil erosion type classification\n",
    "    threshold = 0.4\n",
    "    \n",
    "    # Classify the image based on the predicted probability and threshold value\n",
    "    if predicted_prob >= threshold:\n",
    "        predicted_type = soil_erosion_types[predicted_class]\n",
    "    else:\n",
    "        predicted_type = \"No erosion\"\n",
    "    \n",
    "    # Display the predicted soil erosion type in the GUI interface\n",
    "    label.config(text=\"Predicted Soil Erosion Type: {}\".format(predicted_type))\n",
    "    \n",
    "    # Display the selected image in the GUI interface\n",
    "    img = Image.open(file_path).resize((256, 256))\n",
    "    img_tk = ImageTk.PhotoImage(img)\n",
    "    image_label.config(image=img_tk)\n",
    "    image_label.image = img_tk\n",
    "\n",
    "# Define a function to reset the GUI interface\n",
    "def reset_interface():\n",
    "    # Clear the selected image and predicted soil erosion type\n",
    "    image_label.config(image=None)\n",
    "    label.config(text=\"\")\n",
    "\n",
    "# Add a button to allow the user to select an image file\n",
    "select_button = tk.Button(root, text=\"Select Image\", command=predict_image)\n",
    "select_button.pack()\n",
    "\n",
    "# Add a button to reset the GUI interface\n",
    "reset_button = tk.Button(root, text=\"Reset\", command=reset_interface)\n",
    "reset_button.pack()\n",
    "\n",
    "# Add a label to display the selected image\n",
    "image_label = tk.Label(root)\n",
    "image_label.pack()\n",
    "\n",
    "# Add a label to display the predicted soil erosion type\n",
    "label = tk.Label(root)\n",
    "label.pack()\n",
    "\n",
    "# Run the GUI interface\n",
    "root.mainloop()\n"
   ]
  }
 ],
 "metadata": {
  "kernelspec": {
   "display_name": "MyEnv",
   "language": "python",
   "name": "python3"
  },
  "language_info": {
   "codemirror_mode": {
    "name": "ipython",
    "version": 3
   },
   "file_extension": ".py",
   "mimetype": "text/x-python",
   "name": "python",
   "nbconvert_exporter": "python",
   "pygments_lexer": "ipython3",
   "version": "3.10.9"
  },
  "orig_nbformat": 4
 },
 "nbformat": 4,
 "nbformat_minor": 2
}
